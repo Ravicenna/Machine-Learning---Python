{
 "cells": [
  {
   "cell_type": "markdown",
   "id": "e9f1dc66",
   "metadata": {},
   "source": [
    "PERCOBAAN SIMULASI DETEKSI FRAUD"
   ]
  },
  {
   "cell_type": "code",
   "execution_count": null,
   "id": "fd5cdd1c",
   "metadata": {},
   "outputs": [
    {
     "name": "stdout",
     "output_type": "stream",
     "text": [
      "Daftar fitur yang digunakan untuk training:\n",
      "['step', 'amount', 'oldbalanceOrg', 'newbalanceOrig', 'oldbalanceDest', 'newbalanceDest', 'isFlaggedFraud', 'type_CASH_OUT', 'type_DEBIT', 'type_PAYMENT', 'type_TRANSFER']\n"
     ]
    }
   ],
   "source": [
    "#1. Import Library\n",
    "import pandas as pd\n",
    "import numpy as np\n",
    "import joblib\n",
    "from sklearn.preprocessing import StandardScaler\n",
    "\n",
    "#2. Load model, scaler, dan fitur\n",
    "model = joblib.load(\"xgb_model_smote.pkl\")\n",
    "scaler = joblib.load(\"scaler.pkl\")\n",
    "feature_names = joblib.load(\"feature_names.pkl\")\n",
    "\n",
    "#3. Cek daftar fitur agar tahu tipe apa saja yang digunakan\n",
    "print(\"Daftar fitur yang digunakan untuk training:\")\n",
    "print(feature_names)\n",
    "\n",
    "#Fungsi preprocessing input transaksi baru\n",
    "def preprocess_input(data_dict):\n",
    "    df = pd.DataFrame([data_dict])\n",
    "\n",
    "    # One-hot encoding manual sesuai semua jenis type yang mungkin ada\n",
    "    df['type_CASH_OUT'] = 1 if df['type'].iloc[0] == 'CASH_OUT' else 0\n",
    "    df['type_DEBIT'] = 1 if df['type'].iloc[0] == 'DEBIT' else 0\n",
    "    df['type_PAYMENT'] = 1 if df['type'].iloc[0] == 'PAYMENT' else 0\n",
    "    df['type_TRANSFER'] = 1 if df['type'].iloc[0] == 'TRANSFER' else 0\n",
    "\n",
    "    # Hapus kolom 'type' karena sudah di-encode\n",
    "    df = df.drop('type', axis=1)\n",
    "\n",
    "    # Isi kolom yang tidak ada dengan 0 agar cocok dengan training\n",
    "    for col in feature_names:\n",
    "        if col not in df.columns:\n",
    "            df[col] = 0\n",
    "\n",
    "    # Urutkan kolom agar sesuai dengan saat training\n",
    "    df = df[feature_names]\n",
    "\n",
    "    # Transformasi dengan scaler\n",
    "    df_scaled = scaler.transform(df)\n",
    "    return df_scaled\n",
    "\n",
    "#5. Fungsi deteksi penipuan\n",
    "def detect_fraud(input_data):\n",
    "    try:\n",
    "        processed = preprocess_input(input_data)\n",
    "        prediction = model.predict(processed)[0]\n",
    "        probability = model.predict_proba(processed)[0][1]\n",
    "\n",
    "        status = \"🔴 PENIPUAN\" if prediction == 1 else \"🟢 NORMAL\"\n",
    "        print(\"📌 Input:\", input_data)\n",
    "        print(f\"✅ Hasil Deteksi: {status}\")\n",
    "        print(f\"📊 Probabilitas Penipuan: {probability:.4f}\")\n",
    "    except Exception as e:\n",
    "        print(\"❌ Error:\", e)\n",
    "\n"
   ]
  },
  {
   "cell_type": "code",
   "execution_count": null,
   "id": "bb5740e2",
   "metadata": {},
   "outputs": [
    {
     "name": "stdout",
     "output_type": "stream",
     "text": [
      "📌 Input: {'step': 1, 'amount': 200000, 'oldbalanceOrg': 1000000, 'newbalanceOrig': 800000, 'oldbalanceDest': 0, 'newbalanceDest': 200000, 'type': 'TRANSFER'}\n",
      "✅ Hasil Deteksi: 🟢 NORMAL\n",
      "📊 Probabilitas Penipuan: 0.0003\n"
     ]
    }
   ],
   "source": [
    "#Contoh Input Transaksi untuk Simulasi Normal\n",
    "input_transaction = {\n",
    "    'step': 1,\n",
    "    'amount': 200000,\n",
    "    'oldbalanceOrg': 1000000,\n",
    "    'newbalanceOrig': 800000,\n",
    "    'oldbalanceDest': 0,\n",
    "    'newbalanceDest': 200000,\n",
    "    'type': 'TRANSFER'\n",
    "}\n",
    "\n",
    "detect_fraud(input_transaction)\n"
   ]
  },
  {
   "cell_type": "code",
   "execution_count": 16,
   "id": "45c10665",
   "metadata": {},
   "outputs": [
    {
     "name": "stdout",
     "output_type": "stream",
     "text": [
      "📌 Input: {'step': 1, 'amount': 900000, 'oldbalanceOrg': 900000, 'newbalanceOrig': 0, 'oldbalanceDest': 0, 'newbalanceDest': 0, 'type': 'TRANSFER'}\n",
      "✅ Hasil Deteksi: 🔴 PENIPUAN\n",
      "📊 Probabilitas Penipuan: 1.0000\n"
     ]
    }
   ],
   "source": [
    "#Contoh Input Transaksi untuk Simulasi Penipuan\n",
    "input_fraud = {\n",
    "    'step': 1,\n",
    "    'amount': 900000,\n",
    "    'oldbalanceOrg': 900000,\n",
    "    'newbalanceOrig': 0,\n",
    "    'oldbalanceDest': 0,\n",
    "    'newbalanceDest': 0,\n",
    "    'type': 'TRANSFER'\n",
    "}\n",
    "\n",
    "detect_fraud(input_fraud)\n"
   ]
  }
 ],
 "metadata": {
  "kernelspec": {
   "display_name": "Python 3",
   "language": "python",
   "name": "python3"
  },
  "language_info": {
   "codemirror_mode": {
    "name": "ipython",
    "version": 3
   },
   "file_extension": ".py",
   "mimetype": "text/x-python",
   "name": "python",
   "nbconvert_exporter": "python",
   "pygments_lexer": "ipython3",
   "version": "3.13.3"
  }
 },
 "nbformat": 4,
 "nbformat_minor": 5
}
